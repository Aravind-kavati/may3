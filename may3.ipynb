{
 "cells": [
  {
   "cell_type": "markdown",
   "id": "fa29174a-21af-4e09-8af7-947602e6da15",
   "metadata": {},
   "source": [
    "Q1. What is the role of feature selection in anomaly detection?\n",
    "Q2. What are some common evaluation metrics for anomaly detection algorithms and how are they\n",
    "computed?\n",
    "Q3. What is DBSCAN and how does it work for clustering?\n",
    "Q4. How does the epsilon parameter affect the performance of DBSCAN in detecting anomalies?\n",
    "Q5. What are the differences between the core, border, and noise points in DBSCAN, and how do they relate\n",
    "to anomaly detection?\n",
    "Q6. How does DBSCAN detect anomalies and what are the key parameters involved in the process?\n",
    "Q7. What is the make_circles package in scikit-learn used for?\n",
    "Q8. What are local outliers and global outliers, and how do they differ from each other?\n",
    "Q9. How can local outliers be detected using the Local Outlier Factor (LOF) algorithm?\n",
    "Q10. How can global outliers be detected using the Isolation Forest algorithm?\n",
    "Q11. What are some real-world applications where local outlier detection is more appropriate than global\n",
    "outlier detection, and vice versa"
   ]
  },
  {
   "cell_type": "markdown",
   "id": "ed6d36e8-a9e3-4292-a394-4bd397a4c69a",
   "metadata": {},
   "source": [
    "!)By reducing the dimensionality of the data and focusing on informative features, feature selection can improve the accuracy and efficiency of anomaly detection algorithms"
   ]
  },
  {
   "cell_type": "raw",
   "id": "1be8a960-8b19-4043-ad76-d2141a899b78",
   "metadata": {},
   "source": [
    "2)F1score,precison recall,TN,FP,FN,TP"
   ]
  },
  {
   "cell_type": "markdown",
   "id": "04176cd7-6ba5-4522-bef9-53225618a7fa",
   "metadata": {},
   "source": [
    "3) with a specified radius of e0 it divides the points into core,border,outlier points.core points have high density of neighbours,border points have less than mnpts and outliers have no neighbours within the range of e0 or no core pts within e0 range"
   ]
  },
  {
   "cell_type": "markdown",
   "id": "2c104514-031c-4a5a-8a27-64e4860a98c6",
   "metadata": {},
   "source": [
    "4)In DBSCAN, core points are data points with a minimum number of neighbors (min_samples) within the epsilon radius. They form the core of a cluster. Border points have fewer neighbors than the minimum requirement but are within the epsilon radius of a core point. They are considered part of the cluster but are less significant. Noise points (or outliers) are data points that have fewer neighbors than the minimum requirement and are not within the epsilon radius of a core point."
   ]
  },
  {
   "cell_type": "markdown",
   "id": "50dec84f-5905-4350-a6e5-29870681235c",
   "metadata": {},
   "source": [
    "5)core pts >Mn_pts\n",
    "border pts<Mn_pts\n",
    "outliers have no neighbours within e0 range(these are used as anomaly detection)"
   ]
  },
  {
   "cell_type": "markdown",
   "id": "f391d3a4-7aef-41b8-b073-646743622add",
   "metadata": {},
   "source": [
    "6)By selecting appropriate eo and min_no_pts we can detect anomalies.The epsilon parameter controls the radius within which points are considered neighbors, while min_samples defines the minimum number of neighbors required to form a core point."
   ]
  },
  {
   "cell_type": "markdown",
   "id": "ffe2c0fb-df75-44cd-9548-b91427c42322",
   "metadata": {},
   "source": [
    "7)Make a large circle containing a smaller circle in 2d.\n",
    "\n",
    "A simple toy dataset to visualize clustering and classification algorithms."
   ]
  },
  {
   "cell_type": "markdown",
   "id": "6c96147d-2be0-45b3-b39d-79797f1b4200",
   "metadata": {},
   "source": [
    "8)Local outliers refer to data points that are considered anomalies within their local neighborhood or region but may appear normal when considered in the context of the entire dataset. These outliers are detected based on the deviation from the local density or behavior of nearby instances. On the other hand, global outliers are anomalies that are distinct from the majority of the data across the entire dataset, irrespective of the local neighborhood. These outliers exhibit a deviation from the overall distribution or pattern of the data."
   ]
  },
  {
   "cell_type": "markdown",
   "id": "289786dc-b6ad-4edf-aab2-227a697bcd2d",
   "metadata": {},
   "source": [
    "9)LOF algorithm measures the density of the point .if the distance from the point to its neighbours is high the density will be less and vice-versa"
   ]
  },
  {
   "cell_type": "markdown",
   "id": "30559a36-4693-46a9-9d6b-563fdc5b7e11",
   "metadata": {},
   "source": [
    "10)the algorithm computes the average path length of that point across all the trees. A shorter average path length suggests that the data point is more likely to be an anomaly or a global outlier."
   ]
  },
  {
   "cell_type": "code",
   "execution_count": null,
   "id": "7dfe9dad-c2f0-42e5-b0c2-b755395e9a41",
   "metadata": {},
   "outputs": [],
   "source": []
  }
 ],
 "metadata": {
  "kernelspec": {
   "display_name": "Python 3 (ipykernel)",
   "language": "python",
   "name": "python3"
  },
  "language_info": {
   "codemirror_mode": {
    "name": "ipython",
    "version": 3
   },
   "file_extension": ".py",
   "mimetype": "text/x-python",
   "name": "python",
   "nbconvert_exporter": "python",
   "pygments_lexer": "ipython3",
   "version": "3.10.8"
  }
 },
 "nbformat": 4,
 "nbformat_minor": 5
}
